{
 "cells": [
  {
   "cell_type": "markdown",
   "metadata": {},
   "source": [
    "# NLP Assignment<b>\n",
    "\n",
    "<b>Context</b>\n",
    "\n",
    "<p>This is the sentiment140 dataset. It contains 1,600,000 tweets extracted using the twitter api . The tweets have been annotated (0 = negative, 4 = positive) and they can be used to detect sentiment .</p>"
   ]
  },
  {
   "cell_type": "code",
   "execution_count": 2,
   "metadata": {},
   "outputs": [
    {
     "name": "stdout",
     "output_type": "stream",
     "text": [
      "Collecting kaggle\n",
      "  Downloading kaggle-1.5.16.tar.gz (83 kB)\n",
      "     ---------------------------------------- 0.0/83.6 kB ? eta -:--:--\n",
      "     ---- ----------------------------------- 10.2/83.6 kB ? eta -:--:--\n",
      "     ---- ----------------------------------- 10.2/83.6 kB ? eta -:--:--\n",
      "     ------------- ------------------------ 30.7/83.6 kB 187.9 kB/s eta 0:00:01\n",
      "     ------------------ ------------------- 41.0/83.6 kB 196.9 kB/s eta 0:00:01\n",
      "     --------------------------- ---------- 61.4/83.6 kB 273.8 kB/s eta 0:00:01\n",
      "     -------------------------------------- 83.6/83.6 kB 336.4 kB/s eta 0:00:00\n",
      "  Installing build dependencies: started\n",
      "  Installing build dependencies: finished with status 'done'\n",
      "  Getting requirements to build wheel: started\n",
      "  Getting requirements to build wheel: finished with status 'done'\n",
      "  Preparing metadata (pyproject.toml): started\n",
      "  Preparing metadata (pyproject.toml): finished with status 'done'\n",
      "Requirement already satisfied: six>=1.10 in c:\\users\\suman\\documents\\learning\\m.tech bits pilani\\semester_03\\natural language processing\\assignment01\\nlp_assignment\\venv\\lib\\site-packages (from kaggle) (1.16.0)\n",
      "Collecting certifi (from kaggle)\n",
      "  Obtaining dependency information for certifi from https://files.pythonhosted.org/packages/64/62/428ef076be88fa93716b576e4a01f919d25968913e817077a386fcbe4f42/certifi-2023.11.17-py3-none-any.whl.metadata\n",
      "  Downloading certifi-2023.11.17-py3-none-any.whl.metadata (2.2 kB)\n",
      "Requirement already satisfied: python-dateutil in c:\\users\\suman\\documents\\learning\\m.tech bits pilani\\semester_03\\natural language processing\\assignment01\\nlp_assignment\\venv\\lib\\site-packages (from kaggle) (2.8.2)\n",
      "Collecting requests (from kaggle)\n",
      "  Obtaining dependency information for requests from https://files.pythonhosted.org/packages/70/8e/0e2d847013cb52cd35b38c009bb167a1a26b2ce6cd6965bf26b47bc0bf44/requests-2.31.0-py3-none-any.whl.metadata\n",
      "  Downloading requests-2.31.0-py3-none-any.whl.metadata (4.6 kB)\n",
      "Collecting tqdm (from kaggle)\n",
      "  Obtaining dependency information for tqdm from https://files.pythonhosted.org/packages/00/e5/f12a80907d0884e6dff9c16d0c0114d81b8cd07dc3ae54c5e962cc83037e/tqdm-4.66.1-py3-none-any.whl.metadata\n",
      "  Using cached tqdm-4.66.1-py3-none-any.whl.metadata (57 kB)\n",
      "Collecting python-slugify (from kaggle)\n",
      "  Downloading python_slugify-8.0.1-py2.py3-none-any.whl (9.7 kB)\n",
      "Collecting urllib3 (from kaggle)\n",
      "  Obtaining dependency information for urllib3 from https://files.pythonhosted.org/packages/96/94/c31f58c7a7f470d5665935262ebd7455c7e4c7782eb525658d3dbf4b9403/urllib3-2.1.0-py3-none-any.whl.metadata\n",
      "  Downloading urllib3-2.1.0-py3-none-any.whl.metadata (6.4 kB)\n",
      "Collecting bleach (from kaggle)\n",
      "  Obtaining dependency information for bleach from https://files.pythonhosted.org/packages/ea/63/da7237f805089ecc28a3f36bca6a21c31fcbc2eb380f3b8f1be3312abd14/bleach-6.1.0-py3-none-any.whl.metadata\n",
      "  Downloading bleach-6.1.0-py3-none-any.whl.metadata (30 kB)\n",
      "Collecting webencodings (from bleach->kaggle)\n",
      "  Downloading webencodings-0.5.1-py2.py3-none-any.whl (11 kB)\n",
      "Collecting text-unidecode>=1.3 (from python-slugify->kaggle)\n",
      "  Downloading text_unidecode-1.3-py2.py3-none-any.whl (78 kB)\n",
      "     ---------------------------------------- 0.0/78.2 kB ? eta -:--:--\n",
      "     ---------------------------------------- 78.2/78.2 kB 2.2 MB/s eta 0:00:00\n",
      "Collecting charset-normalizer<4,>=2 (from requests->kaggle)\n",
      "  Obtaining dependency information for charset-normalizer<4,>=2 from https://files.pythonhosted.org/packages/b6/7c/8debebb4f90174074b827c63242c23851bdf00a532489fba57fef3416e40/charset_normalizer-3.3.2-cp312-cp312-win_amd64.whl.metadata\n",
      "  Downloading charset_normalizer-3.3.2-cp312-cp312-win_amd64.whl.metadata (34 kB)\n",
      "Collecting idna<4,>=2.5 (from requests->kaggle)\n",
      "  Obtaining dependency information for idna<4,>=2.5 from https://files.pythonhosted.org/packages/c2/e7/a82b05cf63a603df6e68d59ae6a68bf5064484a0718ea5033660af4b54a9/idna-3.6-py3-none-any.whl.metadata\n",
      "  Downloading idna-3.6-py3-none-any.whl.metadata (9.9 kB)\n",
      "Requirement already satisfied: colorama in c:\\users\\suman\\documents\\learning\\m.tech bits pilani\\semester_03\\natural language processing\\assignment01\\nlp_assignment\\venv\\lib\\site-packages (from tqdm->kaggle) (0.4.6)\n",
      "Downloading bleach-6.1.0-py3-none-any.whl (162 kB)\n",
      "   ---------------------------------------- 0.0/162.8 kB ? eta -:--:--\n",
      "   --------------------------- ------------ 112.6/162.8 kB 6.8 MB/s eta 0:00:01\n",
      "   ----------------------------------- ---- 143.4/162.8 kB 1.7 MB/s eta 0:00:01\n",
      "   ---------------------------------------- 162.8/162.8 kB 1.4 MB/s eta 0:00:00\n",
      "Downloading certifi-2023.11.17-py3-none-any.whl (162 kB)\n",
      "   ---------------------------------------- 0.0/162.5 kB ? eta -:--:--\n",
      "   -------------------- ------------------- 81.9/162.5 kB 1.5 MB/s eta 0:00:01\n",
      "   --------------------------- ------------ 112.6/162.5 kB 1.6 MB/s eta 0:00:01\n",
      "   ---------------------------------------- 162.5/162.5 kB 1.2 MB/s eta 0:00:00\n",
      "Downloading requests-2.31.0-py3-none-any.whl (62 kB)\n",
      "   ---------------------------------------- 0.0/62.6 kB ? eta -:--:--\n",
      "   ---------------------------------------- 62.6/62.6 kB 3.5 MB/s eta 0:00:00\n",
      "Downloading urllib3-2.1.0-py3-none-any.whl (104 kB)\n",
      "   ---------------------------------------- 0.0/104.6 kB ? eta -:--:--\n",
      "   ---------------------------------------- 104.6/104.6 kB 5.9 MB/s eta 0:00:00\n",
      "Using cached tqdm-4.66.1-py3-none-any.whl (78 kB)\n",
      "Downloading charset_normalizer-3.3.2-cp312-cp312-win_amd64.whl (100 kB)\n",
      "   ---------------------------------------- 0.0/100.4 kB ? eta -:--:--\n",
      "   ---------------------------------------- 100.4/100.4 kB 6.0 MB/s eta 0:00:00\n",
      "Downloading idna-3.6-py3-none-any.whl (61 kB)\n",
      "   ---------------------------------------- 0.0/61.6 kB ? eta -:--:--\n",
      "   ---------------------------------------- 61.6/61.6 kB 3.4 MB/s eta 0:00:00\n",
      "Building wheels for collected packages: kaggle\n",
      "  Building wheel for kaggle (pyproject.toml): started\n",
      "  Building wheel for kaggle (pyproject.toml): finished with status 'done'\n",
      "  Created wheel for kaggle: filename=kaggle-1.5.16-py3-none-any.whl size=110693 sha256=36408375018ba94fad2072127f3e2dcef8942b22fad450c1def33c81cccfbf7f\n",
      "  Stored in directory: c:\\users\\suman\\appdata\\local\\pip\\cache\\wheels\\6a\\2e\\62\\475f9443c6f7f73b3beb46e121e2d30f1fb77af8bc7ba7edd6\n",
      "Successfully built kaggle\n",
      "Installing collected packages: webencodings, text-unidecode, urllib3, tqdm, python-slugify, idna, charset-normalizer, certifi, bleach, requests, kaggle\n",
      "Successfully installed bleach-6.1.0 certifi-2023.11.17 charset-normalizer-3.3.2 idna-3.6 kaggle-1.5.16 python-slugify-8.0.1 requests-2.31.0 text-unidecode-1.3 tqdm-4.66.1 urllib3-2.1.0 webencodings-0.5.1\n"
     ]
    },
    {
     "name": "stderr",
     "output_type": "stream",
     "text": [
      "\n",
      "[notice] A new release of pip is available: 23.2.1 -> 23.3.2\n",
      "[notice] To update, run: python.exe -m pip install --upgrade pip\n"
     ]
    }
   ],
   "source": [
    "! pip install kaggle"
   ]
  },
  {
   "cell_type": "code",
   "execution_count": 4,
   "metadata": {},
   "outputs": [
    {
     "name": "stdout",
     "output_type": "stream",
     "text": [
      "kaggle.json configuration completed\n"
     ]
    }
   ],
   "source": [
    "import shutil\n",
    "import os\n",
    "\n",
    "# Source path of downloaded kaggle.json file\n",
    "source_path = 'kaggle.json'\n",
    "\n",
    "# Destination directory for Kaggle API file\n",
    "destination_directory = os.path.join(os.path.expanduser('~'), '.kaggle')\n",
    "\n",
    "# Create the directory if it doesn't exist\n",
    "os.makedirs(destination_directory, exist_ok=True)\n",
    "\n",
    "# Move the kaggle.json file to the destination directory\n",
    "shutil.move(source_path, os.path.join(destination_directory, 'kaggle.json'))\n",
    "\n",
    "# Set permissions for the file (if necessary)\n",
    "os.chmod(os.path.join(destination_directory, 'kaggle.json'), 0o600)\n",
    "\n",
    "print('kaggle.json configuration completed')"
   ]
  },
  {
   "cell_type": "code",
   "execution_count": 5,
   "metadata": {},
   "outputs": [
    {
     "name": "stdout",
     "output_type": "stream",
     "text": [
      "Downloading sentiment140.zip to c:\\Users\\suman\\Documents\\LEARNING\\M.Tech BITS PILANI\\Semester_03\\Natural language processing\\Assignment01\\NLP_Assignment\n",
      "\n"
     ]
    },
    {
     "name": "stderr",
     "output_type": "stream",
     "text": [
      "\n",
      "  0%|          | 0.00/80.9M [00:00<?, ?B/s]\n",
      "  1%|          | 1.00M/80.9M [00:01<02:25, 575kB/s]\n",
      "  2%|▏         | 2.00M/80.9M [00:02<01:30, 919kB/s]\n",
      "  4%|▎         | 3.00M/80.9M [00:03<01:12, 1.12MB/s]\n",
      "  5%|▍         | 4.00M/80.9M [00:03<01:03, 1.26MB/s]\n",
      "  6%|▌         | 5.00M/80.9M [00:04<00:55, 1.44MB/s]\n",
      "  7%|▋         | 6.00M/80.9M [00:04<00:47, 1.66MB/s]\n",
      "  9%|▊         | 7.00M/80.9M [00:05<00:43, 1.77MB/s]\n",
      " 10%|▉         | 8.00M/80.9M [00:05<00:40, 1.91MB/s]\n",
      " 11%|█         | 9.00M/80.9M [00:06<00:35, 2.12MB/s]\n",
      " 12%|█▏        | 10.0M/80.9M [00:06<00:33, 2.23MB/s]\n",
      " 14%|█▎        | 11.0M/80.9M [00:06<00:31, 2.36MB/s]\n",
      " 15%|█▍        | 12.0M/80.9M [00:07<00:28, 2.51MB/s]\n",
      " 16%|█▌        | 13.0M/80.9M [00:07<00:28, 2.54MB/s]\n",
      " 17%|█▋        | 14.0M/80.9M [00:08<00:27, 2.57MB/s]\n",
      " 19%|█▊        | 15.0M/80.9M [00:08<00:25, 2.74MB/s]\n",
      " 20%|█▉        | 16.0M/80.9M [00:08<00:24, 2.80MB/s]\n",
      " 21%|██        | 17.0M/80.9M [00:09<00:22, 2.93MB/s]\n",
      " 22%|██▏       | 18.0M/80.9M [00:09<00:21, 3.03MB/s]\n",
      " 23%|██▎       | 19.0M/80.9M [00:09<00:20, 3.20MB/s]\n",
      " 25%|██▍       | 20.0M/80.9M [00:10<00:19, 3.35MB/s]\n",
      " 26%|██▌       | 21.0M/80.9M [00:10<00:18, 3.44MB/s]\n",
      " 27%|██▋       | 22.0M/80.9M [00:10<00:18, 3.39MB/s]\n",
      " 28%|██▊       | 23.0M/80.9M [00:10<00:17, 3.45MB/s]\n",
      " 30%|██▉       | 24.0M/80.9M [00:11<00:17, 3.49MB/s]\n",
      " 31%|███       | 25.0M/80.9M [00:11<00:16, 3.49MB/s]\n",
      " 32%|███▏      | 26.0M/80.9M [00:11<00:16, 3.48MB/s]\n",
      " 33%|███▎      | 27.0M/80.9M [00:12<00:16, 3.52MB/s]\n",
      " 35%|███▍      | 28.0M/80.9M [00:12<00:15, 3.51MB/s]\n",
      " 36%|███▌      | 29.0M/80.9M [00:12<00:15, 3.57MB/s]\n",
      " 37%|███▋      | 30.0M/80.9M [00:12<00:14, 3.58MB/s]\n",
      " 38%|███▊      | 31.0M/80.9M [00:13<00:14, 3.50MB/s]\n",
      " 40%|███▉      | 32.0M/80.9M [00:13<00:14, 3.50MB/s]\n",
      " 41%|████      | 33.0M/80.9M [00:14<00:16, 3.12MB/s]\n",
      " 42%|████▏     | 34.0M/80.9M [00:14<00:15, 3.25MB/s]\n",
      " 43%|████▎     | 35.0M/80.9M [00:14<00:15, 3.18MB/s]\n",
      " 44%|████▍     | 36.0M/80.9M [00:14<00:14, 3.20MB/s]\n",
      " 46%|████▌     | 37.0M/80.9M [00:15<00:14, 3.25MB/s]\n",
      " 47%|████▋     | 38.0M/80.9M [00:15<00:13, 3.32MB/s]\n",
      " 48%|████▊     | 39.0M/80.9M [00:15<00:13, 3.30MB/s]\n",
      " 49%|████▉     | 40.0M/80.9M [00:16<00:12, 3.32MB/s]\n",
      " 51%|█████     | 41.0M/80.9M [00:16<00:12, 3.38MB/s]\n",
      " 52%|█████▏    | 42.0M/80.9M [00:16<00:11, 3.44MB/s]\n",
      " 53%|█████▎    | 43.0M/80.9M [00:17<00:11, 3.34MB/s]\n",
      " 54%|█████▍    | 44.0M/80.9M [00:17<00:11, 3.37MB/s]\n",
      " 56%|█████▌    | 45.0M/80.9M [00:17<00:11, 3.40MB/s]\n",
      " 57%|█████▋    | 46.0M/80.9M [00:18<00:10, 3.42MB/s]\n",
      " 58%|█████▊    | 47.0M/80.9M [00:18<00:10, 3.40MB/s]\n",
      " 59%|█████▉    | 48.0M/80.9M [00:18<00:10, 3.41MB/s]\n",
      " 61%|██████    | 49.0M/80.9M [00:19<00:10, 3.28MB/s]\n",
      " 62%|██████▏   | 50.0M/80.9M [00:19<00:10, 3.11MB/s]\n",
      " 63%|██████▎   | 51.0M/80.9M [00:19<00:09, 3.26MB/s]\n",
      " 64%|██████▍   | 52.0M/80.9M [00:19<00:08, 3.39MB/s]\n",
      " 65%|██████▌   | 53.0M/80.9M [00:20<00:08, 3.35MB/s]\n",
      " 67%|██████▋   | 54.0M/80.9M [00:20<00:08, 3.28MB/s]\n",
      " 68%|██████▊   | 55.0M/80.9M [00:20<00:08, 3.34MB/s]\n",
      " 69%|██████▉   | 56.0M/80.9M [00:21<00:07, 3.28MB/s]\n",
      " 70%|███████   | 57.0M/80.9M [00:21<00:07, 3.31MB/s]\n",
      " 72%|███████▏  | 58.0M/80.9M [00:21<00:07, 3.32MB/s]\n",
      " 73%|███████▎  | 59.0M/80.9M [00:22<00:06, 3.32MB/s]\n",
      " 74%|███████▍  | 60.0M/80.9M [00:22<00:06, 3.37MB/s]\n",
      " 75%|███████▌  | 61.0M/80.9M [00:22<00:06, 3.32MB/s]\n",
      " 77%|███████▋  | 62.0M/80.9M [00:23<00:06, 3.30MB/s]\n",
      " 78%|███████▊  | 63.0M/80.9M [00:23<00:05, 3.31MB/s]\n",
      " 79%|███████▉  | 64.0M/80.9M [00:23<00:05, 3.28MB/s]\n",
      " 80%|████████  | 65.0M/80.9M [00:24<00:05, 3.31MB/s]\n",
      " 82%|████████▏ | 66.0M/80.9M [00:24<00:04, 3.26MB/s]\n",
      " 83%|████████▎ | 67.0M/80.9M [00:24<00:04, 3.23MB/s]\n",
      " 84%|████████▍ | 68.0M/80.9M [00:25<00:04, 2.87MB/s]\n",
      " 85%|████████▌ | 69.0M/80.9M [00:25<00:04, 2.94MB/s]\n",
      " 87%|████████▋ | 70.0M/80.9M [00:25<00:03, 3.00MB/s]\n",
      " 88%|████████▊ | 71.0M/80.9M [00:26<00:03, 3.05MB/s]\n",
      " 89%|████████▉ | 72.0M/80.9M [00:26<00:02, 3.19MB/s]\n",
      " 90%|█████████ | 73.0M/80.9M [00:26<00:02, 3.24MB/s]\n",
      " 91%|█████████▏| 74.0M/80.9M [00:27<00:02, 3.31MB/s]\n",
      " 93%|█████████▎| 75.0M/80.9M [00:27<00:01, 3.27MB/s]\n",
      " 94%|█████████▍| 76.0M/80.9M [00:27<00:01, 3.35MB/s]\n",
      " 95%|█████████▌| 77.0M/80.9M [00:28<00:01, 3.39MB/s]\n",
      " 96%|█████████▋| 78.0M/80.9M [00:28<00:00, 3.38MB/s]\n",
      " 98%|█████████▊| 79.0M/80.9M [00:28<00:00, 3.38MB/s]\n",
      " 99%|█████████▉| 80.0M/80.9M [00:29<00:00, 3.31MB/s]\n",
      "100%|██████████| 80.9M/80.9M [00:29<00:00, 3.38MB/s]\n",
      "100%|██████████| 80.9M/80.9M [00:29<00:00, 2.90MB/s]\n"
     ]
    }
   ],
   "source": [
    "! kaggle datasets download -d kazanova/sentiment140"
   ]
  },
  {
   "cell_type": "code",
   "execution_count": 7,
   "metadata": {},
   "outputs": [
    {
     "name": "stdout",
     "output_type": "stream",
     "text": [
      "The dataset is extracted\n"
     ]
    }
   ],
   "source": [
    "# Extract the compressed dataset\n",
    "from zipfile import ZipFile\n",
    "dataset = 'sentiment140.zip'\n",
    "\n",
    "with ZipFile(dataset, 'r') as compfile:\n",
    "  compfile.extractall()\n",
    "  print('The dataset is extracted')\n"
   ]
  },
  {
   "cell_type": "code",
   "execution_count": 8,
   "metadata": {},
   "outputs": [
    {
     "name": "stdout",
     "output_type": "stream",
     "text": [
      "All important libraries are imported successfully\n"
     ]
    }
   ],
   "source": [
    "# Importing important libraries\n",
    "\n",
    "import numpy as np\n",
    "import pandas as pd\n",
    "import re # library for using regular expressions\n",
    "from nltk.corpus import stopwords\n",
    "from nltk.stem.porter import PorterStemmer # from stemming a word - reducting word to root word\n",
    "from sklearn.feature_extraction.text import TfidfVectorizer # converting text data to numeric data\n",
    "from sklearn.model_selection import train_test_split\n",
    "from sklearn.linear_model import LogisticRegression \n",
    "from sklearn.metrics import accuracy_score\n",
    "print('All important libraries are imported successfully')"
   ]
  },
  {
   "cell_type": "code",
   "execution_count": 10,
   "metadata": {},
   "outputs": [
    {
     "name": "stderr",
     "output_type": "stream",
     "text": [
      "[nltk_data] Error loading stopwords: <urlopen error [WinError 10060] A\n",
      "[nltk_data]     connection attempt failed because the connected party\n",
      "[nltk_data]     did not properly respond after a period of time, or\n",
      "[nltk_data]     established connection failed because connected host\n",
      "[nltk_data]     has failed to respond>\n"
     ]
    },
    {
     "data": {
      "text/plain": [
       "False"
      ]
     },
     "execution_count": 10,
     "metadata": {},
     "output_type": "execute_result"
    }
   ],
   "source": [
    "# Importing all the stop words for NLP\n",
    "import nltk\n",
    "nltk.download('stopwords')"
   ]
  },
  {
   "cell_type": "code",
   "execution_count": 11,
   "metadata": {},
   "outputs": [
    {
     "name": "stdout",
     "output_type": "stream",
     "text": [
      "['i', 'me', 'my', 'myself', 'we', 'our', 'ours', 'ourselves', 'you', \"you're\", \"you've\", \"you'll\", \"you'd\", 'your', 'yours', 'yourself', 'yourselves', 'he', 'him', 'his', 'himself', 'she', \"she's\", 'her', 'hers', 'herself', 'it', \"it's\", 'its', 'itself', 'they', 'them', 'their', 'theirs', 'themselves', 'what', 'which', 'who', 'whom', 'this', 'that', \"that'll\", 'these', 'those', 'am', 'is', 'are', 'was', 'were', 'be', 'been', 'being', 'have', 'has', 'had', 'having', 'do', 'does', 'did', 'doing', 'a', 'an', 'the', 'and', 'but', 'if', 'or', 'because', 'as', 'until', 'while', 'of', 'at', 'by', 'for', 'with', 'about', 'against', 'between', 'into', 'through', 'during', 'before', 'after', 'above', 'below', 'to', 'from', 'up', 'down', 'in', 'out', 'on', 'off', 'over', 'under', 'again', 'further', 'then', 'once', 'here', 'there', 'when', 'where', 'why', 'how', 'all', 'any', 'both', 'each', 'few', 'more', 'most', 'other', 'some', 'such', 'no', 'nor', 'not', 'only', 'own', 'same', 'so', 'than', 'too', 'very', 's', 't', 'can', 'will', 'just', 'don', \"don't\", 'should', \"should've\", 'now', 'd', 'll', 'm', 'o', 're', 've', 'y', 'ain', 'aren', \"aren't\", 'couldn', \"couldn't\", 'didn', \"didn't\", 'doesn', \"doesn't\", 'hadn', \"hadn't\", 'hasn', \"hasn't\", 'haven', \"haven't\", 'isn', \"isn't\", 'ma', 'mightn', \"mightn't\", 'mustn', \"mustn't\", 'needn', \"needn't\", 'shan', \"shan't\", 'shouldn', \"shouldn't\", 'wasn', \"wasn't\", 'weren', \"weren't\", 'won', \"won't\", 'wouldn', \"wouldn't\"]\n"
     ]
    }
   ],
   "source": [
    "# Print stop words in english\n",
    "print(stopwords.words('english'))"
   ]
  },
  {
   "cell_type": "markdown",
   "metadata": {},
   "source": [
    "### Data Processing"
   ]
  },
  {
   "cell_type": "code",
   "execution_count": 13,
   "metadata": {},
   "outputs": [],
   "source": [
    "# Loading the data from csv to pandas dataframe\n",
    "twitter_data = pd.read_csv('training.1600000.processed.noemoticon.csv', encoding = 'ISO-8859-1')"
   ]
  },
  {
   "cell_type": "code",
   "execution_count": 14,
   "metadata": {},
   "outputs": [
    {
     "data": {
      "text/plain": [
       "(1599999, 6)"
      ]
     },
     "execution_count": 14,
     "metadata": {},
     "output_type": "execute_result"
    }
   ],
   "source": [
    "twitter_data.shape"
   ]
  },
  {
   "cell_type": "code",
   "execution_count": 15,
   "metadata": {},
   "outputs": [
    {
     "data": {
      "text/html": [
       "<div>\n",
       "<style scoped>\n",
       "    .dataframe tbody tr th:only-of-type {\n",
       "        vertical-align: middle;\n",
       "    }\n",
       "\n",
       "    .dataframe tbody tr th {\n",
       "        vertical-align: top;\n",
       "    }\n",
       "\n",
       "    .dataframe thead th {\n",
       "        text-align: right;\n",
       "    }\n",
       "</style>\n",
       "<table border=\"1\" class=\"dataframe\">\n",
       "  <thead>\n",
       "    <tr style=\"text-align: right;\">\n",
       "      <th></th>\n",
       "      <th>0</th>\n",
       "      <th>1467810369</th>\n",
       "      <th>Mon Apr 06 22:19:45 PDT 2009</th>\n",
       "      <th>NO_QUERY</th>\n",
       "      <th>_TheSpecialOne_</th>\n",
       "      <th>@switchfoot http://twitpic.com/2y1zl - Awww, that's a bummer.  You shoulda got David Carr of Third Day to do it. ;D</th>\n",
       "    </tr>\n",
       "  </thead>\n",
       "  <tbody>\n",
       "    <tr>\n",
       "      <th>0</th>\n",
       "      <td>0</td>\n",
       "      <td>1467810672</td>\n",
       "      <td>Mon Apr 06 22:19:49 PDT 2009</td>\n",
       "      <td>NO_QUERY</td>\n",
       "      <td>scotthamilton</td>\n",
       "      <td>is upset that he can't update his Facebook by ...</td>\n",
       "    </tr>\n",
       "    <tr>\n",
       "      <th>1</th>\n",
       "      <td>0</td>\n",
       "      <td>1467810917</td>\n",
       "      <td>Mon Apr 06 22:19:53 PDT 2009</td>\n",
       "      <td>NO_QUERY</td>\n",
       "      <td>mattycus</td>\n",
       "      <td>@Kenichan I dived many times for the ball. Man...</td>\n",
       "    </tr>\n",
       "    <tr>\n",
       "      <th>2</th>\n",
       "      <td>0</td>\n",
       "      <td>1467811184</td>\n",
       "      <td>Mon Apr 06 22:19:57 PDT 2009</td>\n",
       "      <td>NO_QUERY</td>\n",
       "      <td>ElleCTF</td>\n",
       "      <td>my whole body feels itchy and like its on fire</td>\n",
       "    </tr>\n",
       "    <tr>\n",
       "      <th>3</th>\n",
       "      <td>0</td>\n",
       "      <td>1467811193</td>\n",
       "      <td>Mon Apr 06 22:19:57 PDT 2009</td>\n",
       "      <td>NO_QUERY</td>\n",
       "      <td>Karoli</td>\n",
       "      <td>@nationwideclass no, it's not behaving at all....</td>\n",
       "    </tr>\n",
       "    <tr>\n",
       "      <th>4</th>\n",
       "      <td>0</td>\n",
       "      <td>1467811372</td>\n",
       "      <td>Mon Apr 06 22:20:00 PDT 2009</td>\n",
       "      <td>NO_QUERY</td>\n",
       "      <td>joy_wolf</td>\n",
       "      <td>@Kwesidei not the whole crew</td>\n",
       "    </tr>\n",
       "  </tbody>\n",
       "</table>\n",
       "</div>"
      ],
      "text/plain": [
       "   0  1467810369  Mon Apr 06 22:19:45 PDT 2009  NO_QUERY _TheSpecialOne_  \\\n",
       "0  0  1467810672  Mon Apr 06 22:19:49 PDT 2009  NO_QUERY   scotthamilton   \n",
       "1  0  1467810917  Mon Apr 06 22:19:53 PDT 2009  NO_QUERY        mattycus   \n",
       "2  0  1467811184  Mon Apr 06 22:19:57 PDT 2009  NO_QUERY         ElleCTF   \n",
       "3  0  1467811193  Mon Apr 06 22:19:57 PDT 2009  NO_QUERY          Karoli   \n",
       "4  0  1467811372  Mon Apr 06 22:20:00 PDT 2009  NO_QUERY        joy_wolf   \n",
       "\n",
       "  @switchfoot http://twitpic.com/2y1zl - Awww, that's a bummer.  You shoulda got David Carr of Third Day to do it. ;D  \n",
       "0  is upset that he can't update his Facebook by ...                                                                   \n",
       "1  @Kenichan I dived many times for the ball. Man...                                                                   \n",
       "2    my whole body feels itchy and like its on fire                                                                    \n",
       "3  @nationwideclass no, it's not behaving at all....                                                                   \n",
       "4                      @Kwesidei not the whole crew                                                                    "
      ]
     },
     "execution_count": 15,
     "metadata": {},
     "output_type": "execute_result"
    }
   ],
   "source": [
    "twitter_data.head(5)"
   ]
  },
  {
   "cell_type": "markdown",
   "metadata": {},
   "source": [
    "As we see there is no header in the data, the first row is considers as header, so we need to add correct header for each column of the data."
   ]
  },
  {
   "cell_type": "code",
   "execution_count": 16,
   "metadata": {},
   "outputs": [],
   "source": [
    "# Naming the columns and reading the datasset again\n",
    "column_names = ['target', 'id', 'date', 'flag', 'user', 'text']\n",
    "twitter_data = pd.read_csv('training.1600000.processed.noemoticon.csv', names = column_names, encoding = 'ISO-8859-1')\n"
   ]
  },
  {
   "cell_type": "code",
   "execution_count": 17,
   "metadata": {},
   "outputs": [
    {
     "data": {
      "text/plain": [
       "(1600000, 6)"
      ]
     },
     "execution_count": 17,
     "metadata": {},
     "output_type": "execute_result"
    }
   ],
   "source": [
    "twitter_data.shape"
   ]
  },
  {
   "cell_type": "code",
   "execution_count": 18,
   "metadata": {},
   "outputs": [
    {
     "data": {
      "text/html": [
       "<div>\n",
       "<style scoped>\n",
       "    .dataframe tbody tr th:only-of-type {\n",
       "        vertical-align: middle;\n",
       "    }\n",
       "\n",
       "    .dataframe tbody tr th {\n",
       "        vertical-align: top;\n",
       "    }\n",
       "\n",
       "    .dataframe thead th {\n",
       "        text-align: right;\n",
       "    }\n",
       "</style>\n",
       "<table border=\"1\" class=\"dataframe\">\n",
       "  <thead>\n",
       "    <tr style=\"text-align: right;\">\n",
       "      <th></th>\n",
       "      <th>target</th>\n",
       "      <th>id</th>\n",
       "      <th>date</th>\n",
       "      <th>flag</th>\n",
       "      <th>user</th>\n",
       "      <th>text</th>\n",
       "    </tr>\n",
       "  </thead>\n",
       "  <tbody>\n",
       "    <tr>\n",
       "      <th>0</th>\n",
       "      <td>0</td>\n",
       "      <td>1467810369</td>\n",
       "      <td>Mon Apr 06 22:19:45 PDT 2009</td>\n",
       "      <td>NO_QUERY</td>\n",
       "      <td>_TheSpecialOne_</td>\n",
       "      <td>@switchfoot http://twitpic.com/2y1zl - Awww, t...</td>\n",
       "    </tr>\n",
       "    <tr>\n",
       "      <th>1</th>\n",
       "      <td>0</td>\n",
       "      <td>1467810672</td>\n",
       "      <td>Mon Apr 06 22:19:49 PDT 2009</td>\n",
       "      <td>NO_QUERY</td>\n",
       "      <td>scotthamilton</td>\n",
       "      <td>is upset that he can't update his Facebook by ...</td>\n",
       "    </tr>\n",
       "    <tr>\n",
       "      <th>2</th>\n",
       "      <td>0</td>\n",
       "      <td>1467810917</td>\n",
       "      <td>Mon Apr 06 22:19:53 PDT 2009</td>\n",
       "      <td>NO_QUERY</td>\n",
       "      <td>mattycus</td>\n",
       "      <td>@Kenichan I dived many times for the ball. Man...</td>\n",
       "    </tr>\n",
       "    <tr>\n",
       "      <th>3</th>\n",
       "      <td>0</td>\n",
       "      <td>1467811184</td>\n",
       "      <td>Mon Apr 06 22:19:57 PDT 2009</td>\n",
       "      <td>NO_QUERY</td>\n",
       "      <td>ElleCTF</td>\n",
       "      <td>my whole body feels itchy and like its on fire</td>\n",
       "    </tr>\n",
       "    <tr>\n",
       "      <th>4</th>\n",
       "      <td>0</td>\n",
       "      <td>1467811193</td>\n",
       "      <td>Mon Apr 06 22:19:57 PDT 2009</td>\n",
       "      <td>NO_QUERY</td>\n",
       "      <td>Karoli</td>\n",
       "      <td>@nationwideclass no, it's not behaving at all....</td>\n",
       "    </tr>\n",
       "  </tbody>\n",
       "</table>\n",
       "</div>"
      ],
      "text/plain": [
       "   target          id                          date      flag  \\\n",
       "0       0  1467810369  Mon Apr 06 22:19:45 PDT 2009  NO_QUERY   \n",
       "1       0  1467810672  Mon Apr 06 22:19:49 PDT 2009  NO_QUERY   \n",
       "2       0  1467810917  Mon Apr 06 22:19:53 PDT 2009  NO_QUERY   \n",
       "3       0  1467811184  Mon Apr 06 22:19:57 PDT 2009  NO_QUERY   \n",
       "4       0  1467811193  Mon Apr 06 22:19:57 PDT 2009  NO_QUERY   \n",
       "\n",
       "              user                                               text  \n",
       "0  _TheSpecialOne_  @switchfoot http://twitpic.com/2y1zl - Awww, t...  \n",
       "1    scotthamilton  is upset that he can't update his Facebook by ...  \n",
       "2         mattycus  @Kenichan I dived many times for the ball. Man...  \n",
       "3          ElleCTF    my whole body feels itchy and like its on fire   \n",
       "4           Karoli  @nationwideclass no, it's not behaving at all....  "
      ]
     },
     "execution_count": 18,
     "metadata": {},
     "output_type": "execute_result"
    }
   ],
   "source": [
    "twitter_data.head(5)"
   ]
  },
  {
   "cell_type": "code",
   "execution_count": 19,
   "metadata": {},
   "outputs": [
    {
     "data": {
      "text/plain": [
       "target    0\n",
       "id        0\n",
       "date      0\n",
       "flag      0\n",
       "user      0\n",
       "text      0\n",
       "dtype: int64"
      ]
     },
     "execution_count": 19,
     "metadata": {},
     "output_type": "execute_result"
    }
   ],
   "source": [
    "# Checking the missing values in dataset\n",
    "\n",
    "twitter_data.isnull().sum()"
   ]
  },
  {
   "cell_type": "code",
   "execution_count": 20,
   "metadata": {},
   "outputs": [
    {
     "data": {
      "text/plain": [
       "target\n",
       "0    800000\n",
       "4    800000\n",
       "Name: count, dtype: int64"
      ]
     },
     "execution_count": 20,
     "metadata": {},
     "output_type": "execute_result"
    }
   ],
   "source": [
    "# Checking the disctribution of target column, 0 = negative, 4 = positive)\n",
    "twitter_data['target'].value_counts()"
   ]
  },
  {
   "cell_type": "markdown",
   "metadata": {},
   "source": [
    "Converting the Target \"4\" to \"1\""
   ]
  },
  {
   "cell_type": "code",
   "execution_count": 21,
   "metadata": {},
   "outputs": [],
   "source": [
    "twitter_data.replace({'target':{4:1}}, inplace = True)"
   ]
  },
  {
   "cell_type": "code",
   "execution_count": 22,
   "metadata": {},
   "outputs": [
    {
     "data": {
      "text/plain": [
       "target\n",
       "0    800000\n",
       "1    800000\n",
       "Name: count, dtype: int64"
      ]
     },
     "execution_count": 22,
     "metadata": {},
     "output_type": "execute_result"
    }
   ],
   "source": [
    "# Checking the disctribution of target column\n",
    "twitter_data['target'].value_counts()"
   ]
  },
  {
   "cell_type": "markdown",
   "metadata": {},
   "source": [
    "Now\n",
    " - 0 --> negative Tweet\n",
    " - 1 --> positive Tweet"
   ]
  },
  {
   "cell_type": "markdown",
   "metadata": {},
   "source": [
    "##### Stemming : \n",
    "The process of reducting a word to its root word\n",
    "example: actor, actress, acting = act"
   ]
  },
  {
   "cell_type": "code",
   "execution_count": null,
   "metadata": {},
   "outputs": [],
   "source": [
    "portStem = PorterStemmer()\n",
    "\n",
    "def stemming(content):\n",
    "    stemmed_content = re.sub('[^a-zA-Z]',' ', content)\n",
    "    stemmed_content = stemmed_content.lower()\n",
    "    stemmed_content = stemmed_content.split()\n",
    "    stemmed_content = [portStem.stem(word) for word in stemmed_content if not word in stopwords.words('english')]\n",
    "    stemmed_content = ' '.join(stemmed_content)\n",
    "\n",
    "    return stemmed_content"
   ]
  }
 ],
 "metadata": {
  "kernelspec": {
   "display_name": "venv",
   "language": "python",
   "name": "python3"
  },
  "language_info": {
   "codemirror_mode": {
    "name": "ipython",
    "version": 3
   },
   "file_extension": ".py",
   "mimetype": "text/x-python",
   "name": "python",
   "nbconvert_exporter": "python",
   "pygments_lexer": "ipython3",
   "version": "3.12.0"
  }
 },
 "nbformat": 4,
 "nbformat_minor": 2
}
